{
  "metadata": {
    "language_info": {
      "codemirror_mode": {
        "name": "python",
        "version": 3
      },
      "file_extension": ".py",
      "mimetype": "text/x-python",
      "name": "python",
      "nbconvert_exporter": "python",
      "pygments_lexer": "ipython3",
      "version": "3.8"
    },
    "kernelspec": {
      "name": "python",
      "display_name": "Python (Pyodide)",
      "language": "python"
    }
  },
  "nbformat_minor": 4,
  "nbformat": 4,
  "cells": [
    {
      "cell_type": "markdown",
      "source": "**Python**\n\n* high level and object oriented programming language\n\n**Why Python?**\n\n* easy to use * interpreted language-  executes the code a line-at-a-time.\n\n**Working in Python**\n\n* interactive mode \n* script mode\n\n**Variables**\n\n**1. Assigning Value to Variable:**\n   - Syntax: `variable_name = value`\n   - Example: `x = 42`\n\n**2. Naming a Variable:**\n   - Variable names must start with a letter (a-z, A-Z) or an underscore (_).\n   - The remaining characters can be letters, numbers (0-9), or underscores.\n   - Variable names are case-sensitive.\n   - Avoid using Python reserved words (e.g., `if`, `else`, `while`) as variable names.\n   - Use descriptive and meaningful names for clarity.\n   - Use underscores (_) for multi-word variable names (e.g., `my_variable`).\n\n**3. Variables in Memory:**\n   - Variables in Python reference objects in memory.\n   - When you assign a value to a variable, the variable points to the memory location where the value is stored.\n   - Multiple variables can reference the same value in memory.\n   - Memory management is handled by Python's memory manager, including automatic memory deallocation (garbage collection).\n\n**Examples for better understanding:**\n\n```python\n# Assigning a value to a variable\nx = 42\n\n# Naming a variable\nmy_variable = \"Hello, World\"\n\n# Variables in memory\na = 10\nb = a  # Both a and b point to the same memory location with the value 10\n\n# Reassigning a variable\na = 20  # a now points to a different memory location with the value 20\n```\n\n**In the provided code snippets:**\n- `x` is a variable with the value 42.\n- `my_variable` is a variable with the string \"Hello, World\".\n- Initially, both `a` and `b` point to the memory location with the value 10. Later, `a` is reassigned to point to a different memory location with the value 20.\n\n**1. Data Types:**\n   - int: Integer data type for whole numbers.\n   - float: Floating-point data type for numbers with a decimal point.\n   - str: String data type for text.\n   - bool: Boolean data type for True or False values.\n   - list: Ordered collection of elements.\n   - tuple: Ordered, immutable collection of elements.\n   - dict: Associative collection of key-value pairs.\n   - set: Unordered collection of unique elements.\n\n```python\n# Examples of data types\ninteger_var = 42  # int\nfloat_var = 3.14  # float\nstring_var = \"Hello, World\"  # str\nboolean_var = True  # bool\nlist_var = [1, 2, 3]  # list\ntuple_var = (4, 5, 6)  # tuple\ndictionary_var = {\"key\": \"value\"}  # dict\nset_var = {1, 2, 3}  # set\n```\n\n**2. Arithmetic Operators:**\n   - Addition: `+`\n   - Subtraction: `-`\n   - Multiplication: `*`\n   - Division: `/`\n   - Integer Division (Floor Division): `//`\n   - Modulo (Remainder): `%`\n   - Exponentiation: ``\n\n```python\n# Examples of arithmetic operators\nx = 10\ny = 5\n\naddition_result = x + y\nsubtraction_result = x - y\nmultiplication_result = x * y\ndivision_result = x / y\nfloor_division_result = x // y\nmodulo_result = x % y\nexponentiation_result = x  y\n```\n\nIn the provided code snippets:\n- `addition_result` contains the result of the addition of `x` and `y`.\n- `subtraction_result` contains the result of the subtraction of `y` from `x`.\n- `multiplication_result` contains the result of multiplying `x` and `y`.\n- `division_result` contains the result of dividing `x` by `y`.\n- `floor_division_result` contains the result of integer division of `x` by `y`.\n- `modulo_result` contains the remainder when `x` is divided by `y`.\n- `exponentiation_result` contains `x` raised to the power of `y`.\n\n\n1. **Taking User Input**:\n   - Use the `input()` function to interactively get input from the user.\n   - The `input()` function displays a prompt and waits for the user to enter their input.\n   - The input is always returned as a string.\n\nExample:\n```python\nage = input(\"What is your age?\")\n```\n\n2. **Reading Numbers**:\n   - To convert the user's input into numeric data types (int or float), use the `int()` and `float()` functions for type casting.\n   - Type casting is the process of converting one data type to another.\n\nExample:\n```python\nage = int(input(\"Enter Your Age: \"))  # Converts user input to an integer\n```\n\nThis explanation provides a clear and comprehensive guide to handling user input and reading numbers in Python.\n",
      "metadata": {
        "tags": []
      }
    },
    {
      "cell_type": "code",
      "source": "",
      "metadata": {},
      "execution_count": null,
      "outputs": []
    },
    {
      "cell_type": "markdown",
      "source": "\n***1. You are given first three entries of an arithmetic progression. You have to calculate the common difference and print it***.",
      "metadata": {}
    },
    {
      "cell_type": "code",
      "source": "#driver code\nA = int(input())\nB = int(input())\nC = int(input())\n\n#calc common difference\n \nD = B-A \nprint(D)\n",
      "metadata": {
        "trusted": true
      },
      "execution_count": null,
      "outputs": []
    },
    {
      "cell_type": "markdown",
      "source": "***Write a program to input marks of three tests of a student (all integers). Then calculate and print the average of all test marks.***\n",
      "metadata": {}
    },
    {
      "cell_type": "code",
      "source": "A = int(input())\nB = int(input())\nC = int(input())\n\nD= A+B+C\nprint(\"average of all students:\" , d/3)",
      "metadata": {
        "trusted": true
      },
      "execution_count": null,
      "outputs": []
    },
    {
      "cell_type": "markdown",
      "source": "***You are given two integers: X and N. You have to calculate X raised to power N and print it.***",
      "metadata": {}
    },
    {
      "cell_type": "code",
      "source": "# Get the values of X and N from the user\nX = float(input(\"Enter the value of X: \"))\nN = int(input(\"Enter the value of N: \"))\n\n# Calculate X raised to the power N\nresult = X ** N\n\n# Print the result\nresult\n",
      "metadata": {},
      "execution_count": null,
      "outputs": []
    },
    {
      "cell_type": "markdown",
      "source": "***Find X raised to power N***",
      "metadata": {}
    },
    {
      "cell_type": "code",
      "source": "# Get the values of X and N from the user\nX = float(input(\"Enter the value of X: \"))\nN = int(input(\"Enter the value of N: \"))\n\n# Calculate X raised to the power N using the pow() function\nresult = pow(X, N)\n\n# Print the result\nresult\n",
      "metadata": {},
      "execution_count": null,
      "outputs": []
    },
    {
      "cell_type": "markdown",
      "source": "***You are given a rectangle in a plane. The corner coordinates of this rectangle is provided to you. You have to print the amount of area of the plane covered by this rectangles.***\n\n***The end coordinates are provided as four integral values: x1, y1, x2, y2. It is given that x1 < x2 and y1 < y2.***\n",
      "metadata": {}
    },
    {
      "cell_type": "code",
      "source": "x1 = int(input())\ny1 = int(input())\nx2 = int(input())\ny2 = int(input())\n\n#to find rectangular area\n\nprint((x2-x2)*(y2-y1))",
      "metadata": {},
      "execution_count": null,
      "outputs": []
    }
  ]
}